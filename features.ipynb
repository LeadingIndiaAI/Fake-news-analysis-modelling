{
  "nbformat": 4,
  "nbformat_minor": 0,
  "metadata": {
    "colab": {
      "name": "Untitled2.ipynb",
      "provenance": [],
      "collapsed_sections": [],
      "authorship_tag": "ABX9TyMRRUCbJlvLNRXyTCJaZosm",
      "include_colab_link": true
    },
    "kernelspec": {
      "name": "python3",
      "display_name": "Python 3"
    }
  },
  "cells": [
    {
      "cell_type": "markdown",
      "metadata": {
        "id": "view-in-github",
        "colab_type": "text"
      },
      "source": [
        "<a href=\"https://colab.research.google.com/github/Sanchit112/FakeNews/blob/master/features.ipynb\" target=\"_parent\"><img src=\"https://colab.research.google.com/assets/colab-badge.svg\" alt=\"Open In Colab\"/></a>"
      ]
    },
    {
      "cell_type": "code",
      "metadata": {
        "id": "KZQgYMUFRZgc",
        "colab_type": "code",
        "colab": {}
      },
      "source": [
        "import pandas as pd\n",
        "import nltk\n",
        "import re\n",
        "from nltk.tokenize import word_tokenize\n",
        "from nltk.corpus import stopwords\n",
        "from nltk.stem.porter import PorterStemmer"
      ],
      "execution_count": 0,
      "outputs": []
    },
    {
      "cell_type": "code",
      "metadata": {
        "id": "kgTvig1aXITg",
        "colab_type": "code",
        "colab": {
          "base_uri": "https://localhost:8080/",
          "height": 114
        },
        "outputId": "f60b4581-eb48-44ee-b562-ed566a34d2f1"
      },
      "source": [
        "nltk.download('punkt')\n",
        "nltk.download('stopwords')"
      ],
      "execution_count": 30,
      "outputs": [
        {
          "output_type": "stream",
          "text": [
            "[nltk_data] Downloading package punkt to /root/nltk_data...\n",
            "[nltk_data]   Package punkt is already up-to-date!\n",
            "[nltk_data] Downloading package stopwords to /root/nltk_data...\n",
            "[nltk_data]   Unzipping corpora/stopwords.zip.\n"
          ],
          "name": "stdout"
        },
        {
          "output_type": "execute_result",
          "data": {
            "text/plain": [
              "True"
            ]
          },
          "metadata": {
            "tags": []
          },
          "execution_count": 30
        }
      ]
    },
    {
      "cell_type": "code",
      "metadata": {
        "id": "ZsIZePWiRxLf",
        "colab_type": "code",
        "colab": {}
      },
      "source": [
        "real = pd.read_csv(\"/content/realtweetsfinal.csv\")\n",
        "fake = pd.read_csv(\"/content/faketweetsfinal.csv\")\n",
        "userreal = pd.read_csv(\"/content/userreal.csv\")\n",
        "userfake = pd.read_csv(\"/content/userfake.csv\")"
      ],
      "execution_count": 0,
      "outputs": []
    },
    {
      "cell_type": "code",
      "metadata": {
        "id": "cMmp_RI_UkOi",
        "colab_type": "code",
        "colab": {
          "base_uri": "https://localhost:8080/",
          "height": 75
        },
        "outputId": "7f46d86b-3193-4949-b9c8-b42c368cb013"
      },
      "source": [
        "real.columns"
      ],
      "execution_count": 12,
      "outputs": [
        {
          "output_type": "execute_result",
          "data": {
            "text/plain": [
              "Index(['date', 'search', 'username', 'tweet', 'nlikes', 'nretweets',\n",
              "       'nreplies'],\n",
              "      dtype='object')"
            ]
          },
          "metadata": {
            "tags": []
          },
          "execution_count": 12
        }
      ]
    },
    {
      "cell_type": "code",
      "metadata": {
        "id": "dt1XcWmyVE7S",
        "colab_type": "code",
        "colab": {
          "base_uri": "https://localhost:8080/",
          "height": 94
        },
        "outputId": "24f5887b-2641-47e6-934f-9f45becd43ea"
      },
      "source": [
        "userreal.columns"
      ],
      "execution_count": 16,
      "outputs": [
        {
          "output_type": "execute_result",
          "data": {
            "text/plain": [
              "Index(['name', 'username', 'bio', 'location', 'url', 'join_date', 'join_time',\n",
              "       'tweets', 'following', 'followers', 'likes', 'media', 'private',\n",
              "       'verified'],\n",
              "      dtype='object')"
            ]
          },
          "metadata": {
            "tags": []
          },
          "execution_count": 16
        }
      ]
    },
    {
      "cell_type": "code",
      "metadata": {
        "id": "noTKBb5RT4ME",
        "colab_type": "code",
        "colab": {}
      },
      "source": [
        "userreal = userreal.drop(['id','profile_image_url', 'background_image'],axis=1)\n",
        "userfake = userfake.drop(['id','profile_image_url', 'background_image'],axis=1)"
      ],
      "execution_count": 0,
      "outputs": []
    },
    {
      "cell_type": "code",
      "metadata": {
        "id": "WXDvHbMARxab",
        "colab_type": "code",
        "colab": {}
      },
      "source": [
        "fakefull = pd.merge(left=real, right=userreal, left_on='username', right_on='username')\n",
        "realfull = pd.merge(left=fake, right=userfake, left_on='username', right_on='username')"
      ],
      "execution_count": 0,
      "outputs": []
    },
    {
      "cell_type": "code",
      "metadata": {
        "id": "QWZmePcWVTKT",
        "colab_type": "code",
        "colab": {
          "base_uri": "https://localhost:8080/",
          "height": 114
        },
        "outputId": "0c8ecec4-5925-4631-8ba5-4ea3b8dbf2aa"
      },
      "source": [
        "fakefull.columns"
      ],
      "execution_count": 18,
      "outputs": [
        {
          "output_type": "execute_result",
          "data": {
            "text/plain": [
              "Index(['date', 'search', 'username', 'tweet', 'nlikes', 'nretweets',\n",
              "       'nreplies', 'name', 'bio', 'location', 'url', 'join_date', 'join_time',\n",
              "       'tweets', 'following', 'followers', 'likes', 'media', 'private',\n",
              "       'verified'],\n",
              "      dtype='object')"
            ]
          },
          "metadata": {
            "tags": []
          },
          "execution_count": 18
        }
      ]
    },
    {
      "cell_type": "code",
      "metadata": {
        "id": "4z05QqopWyXw",
        "colab_type": "code",
        "colab": {}
      },
      "source": [
        "def features(temp):\n",
        "    length = len(temp)\n",
        "    regex = r\"(?i)\\b((?:https?://|www\\d{0,3}[.]|[a-z0-9.\\-]+[.][a-z]{2,4}/)(?:[^\\s()<>]+|\\(([^\\s()<>]+|(\\([^\\s()<>]+\\)))*\\))+(?:\\(([^\\s()<>]+|(\\([^\\s()<>]+\\)))*\\)|[^\\s`!()\\[\\]{};:'\\\".,<>?«»“”‘’]))\"\n",
        "    url = re.findall(regex,temp)\n",
        "    temp = re.sub(r\"[^a-zA-Z0-9]+\", ' ', temp)\n",
        "    special = length - len(temp)\n",
        "    tokens = word_tokenize(temp)\n",
        "    words = len(tokens)\n",
        "    stop_words = set(stopwords.words('english'))\n",
        "    tokens = [w for w in tokens if not w in stop_words]\n",
        "    porter = PorterStemmer()\n",
        "    stems = []\n",
        "    for t in tokens:    \n",
        "        stems.append(porter.stem(t))\n",
        "    useful_words = len(stems)\n",
        "    return length, len(url), special, words, stems, useful_words"
      ],
      "execution_count": 0,
      "outputs": []
    },
    {
      "cell_type": "code",
      "metadata": {
        "id": "fdnIsb22bj6J",
        "colab_type": "code",
        "colab": {}
      },
      "source": [
        " x = realfull['tweet'].apply(features).to_list()\n",
        " y = fakefull['tweet'].apply(features).to_list()"
      ],
      "execution_count": 0,
      "outputs": []
    },
    {
      "cell_type": "code",
      "metadata": {
        "id": "Nei9PGowhD_N",
        "colab_type": "code",
        "colab": {}
      },
      "source": [
        "realFeatures = pd.DataFrame(x, columns =['Characters', 'urls', 'SecialCharacters', 'Words', 'Stems', 'UsefulWords']) \n",
        "fakeFeatures = pd.DataFrame(y, columns =['Characters', 'urls', 'SecialCharacters', 'Words', 'Stems', 'UsefulWords']) "
      ],
      "execution_count": 0,
      "outputs": []
    },
    {
      "cell_type": "code",
      "metadata": {
        "id": "ChpoaFh4eQ6H",
        "colab_type": "code",
        "colab": {}
      },
      "source": [
        "fake_tweets = pd.concat([realfull, realFeatures], axis=1, sort=False)\n",
        "real_tweets = pd.concat([fakefull, fakeFeatures], axis=1, sort=False)"
      ],
      "execution_count": 0,
      "outputs": []
    },
    {
      "cell_type": "code",
      "metadata": {
        "id": "lQh1ZyyLhwta",
        "colab_type": "code",
        "colab": {}
      },
      "source": [
        "fake_tweets.to_csv(\"fake_tweets.csv\")\n",
        "real_tweets.to_csv(\"real_tweets.csv\")"
      ],
      "execution_count": 0,
      "outputs": []
    }
  ]
}